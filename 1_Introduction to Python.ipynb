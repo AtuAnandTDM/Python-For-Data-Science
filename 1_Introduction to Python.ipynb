{
 "cells": [
  {
   "cell_type": "markdown",
   "id": "eefc7f3f",
   "metadata": {},
   "source": [
    "#                                             Introduction to Python"
   ]
  },
  {
   "cell_type": "markdown",
   "id": "17fee71f",
   "metadata": {},
   "source": [
    "# Python_1-Subtopic_1 -  Introduction to Python"
   ]
  },
  {
   "cell_type": "markdown",
   "id": "ef54c0e5",
   "metadata": {},
   "source": [
    "# Python_1-Subtopic_2 -  Jupyter Notebook Tutorial: Introduction, Setup, and Walkthrough"
   ]
  },
  {
   "cell_type": "markdown",
   "id": "3decff64",
   "metadata": {},
   "source": [
    "# Python_1-Subtopic_3 -  Python- Basic Syntax - The First Python program"
   ]
  },
  {
   "cell_type": "code",
   "execution_count": null,
   "id": "13f4459a",
   "metadata": {},
   "outputs": [],
   "source": [
    "\n",
    "'''\n",
    "The Python syntax defines a set of rules that are used to create Python statements \n",
    "while writing a Python Program. \n",
    "Although The Python Programming Language Syntax has many similarities to Perl, C, \n",
    "and Java Programming Languages but there are some huge differences between these \n",
    "languages.\n",
    "\n",
    "\n",
    "so lets execute our first python program of hello world and then we will learn about\n",
    "sntax in more detail\n",
    "\n",
    "'''\n",
    "\n",
    "print(\"hello world\")\n",
    "\n",
    "''' So what is happening over here is that The print() is a function in python and it displays the given object \n",
    "to the standard output device which is your screen \n",
    "'''\n"
   ]
  },
  {
   "cell_type": "markdown",
   "id": "9044a26b",
   "metadata": {},
   "source": [
    "# Python_1-Subtopic_4 -  Python Identifiers"
   ]
  },
  {
   "cell_type": "code",
   "execution_count": null,
   "id": "97c6e376",
   "metadata": {},
   "outputs": [],
   "source": [
    "\n",
    "\n",
    "\n",
    "'''\n",
    "Python identifiers are name used to identify a variable, function, class, module or other objects in python.\n",
    "An identifier can starts with a letter A to Z or a to z or an underscore (_) followed by zero or more letters,\n",
    "underscores and any digits between 0 to 9.\n",
    "\n",
    "Python does not allow punctuation characters such as @, $, and % within identifiers.\n",
    "\n",
    "Python is a case sensitive programming language. Thus, Atul and atul are two different values in Python.\n",
    "\n",
    "so we talk about the naming conventions for Python identifiers then :−\n",
    "    1) Python Class names start with an uppercase letter. All other identifiers start with a lowercase letter.\n",
    "    2) Starting an identifier with a single leading underscore indicates that the identifier is private identifier.\n",
    "    3) Starting an identifier with two leading underscores indicates a strongly private identifier.\n",
    "    4) If the identifier also ends with two trailing underscores, the identifier is a language-defined special name.\n",
    "\n",
    "'''\n"
   ]
  },
  {
   "cell_type": "markdown",
   "id": "0b197376",
   "metadata": {},
   "source": [
    "# Python_1-Subtopic_5 -  Python Reserved Words"
   ]
  },
  {
   "cell_type": "code",
   "execution_count": null,
   "id": "c8751ae5",
   "metadata": {},
   "outputs": [],
   "source": [
    "\n",
    "'''\n",
    "\n",
    "Now lets discusss about the Python Reserved Words\n",
    "So python has a list of keywords. \n",
    "These are reserved words and we cannot use them as constant or variable or any other identifier names. \n",
    "All the Python keywords contain lowercase letters only.\n",
    "\n",
    "and,as,assert,break,class,continue,def,del,elif,else,except,False,finally,for,from,global,if,import,\n",
    "in,is,lambda,None,nonlocal,not,or,pass,raise,return,True,try,while,with,yield  \n",
    "'''\n"
   ]
  },
  {
   "cell_type": "markdown",
   "id": "e7cd4268",
   "metadata": {},
   "source": [
    "# Python_1-Subtopic_6 - Python Lines and Indentation"
   ]
  },
  {
   "cell_type": "code",
   "execution_count": null,
   "id": "e97b3564",
   "metadata": {},
   "outputs": [],
   "source": [
    "\n",
    "\n",
    "\n",
    "'''\n",
    "\n",
    "In python Indentation refers to the spaces at the beginning of a code line.\n",
    "In other programming languages the indentation in code is for readability only while the indentation in Python is very important.\n",
    "Python uses indentation to indicate a block of code For example −\n",
    "'''\n",
    "a=10\n",
    "b=20\n",
    "if(a>b):\n",
    "    print(\"A is greater than B\")\n",
    "else:\n",
    "    print(\"B is greater than A\")\n",
    "\n",
    "'''\n",
    "So what is happeing over here in the code is that we have two variables a and b and we are storing 10 and 20 in these variables\n",
    "respectiverly and then we have if statement which basically evaluates whether value of a is greater then b or not and\n",
    "if a is greater then b then print \n",
    "and if a is not greater than B then go the else block and print the statement.\n",
    "\n",
    "So as you can see here that There is no use of curly braces or semicolon in Python programming language. \n",
    "It is English-like language. \n",
    "But Python uses the indentation to define a block of code. \n",
    "Indentation is nothing but adding whitespace before the statement when it is needed.\n",
    "\n",
    "Thus, in Python all the continuous lines indented with same number of spaces and it will form a block.\n",
    "and Python will give you an error if you skip the indentation:\n",
    "\n",
    "'''\n",
    "\n"
   ]
  },
  {
   "cell_type": "markdown",
   "id": "163eb9e5",
   "metadata": {},
   "source": [
    "# Python_1-Subtopic_7 - Python Multi-Line Statements"
   ]
  },
  {
   "cell_type": "code",
   "execution_count": null,
   "id": "0ee7824c",
   "metadata": {},
   "outputs": [],
   "source": [
    "'''\n",
    "The code Statements in Python typically end with a new line. \n",
    "however, python allow us to the use the line continuation character (\\) to denote that the line should continue. For example −\n",
    "'''\n",
    "\n",
    "total = 1 + \\\n",
    "        2 + \\\n",
    "        3\n",
    "print(total)\n",
    "\n",
    "'''\n",
    "so if we see this program then we are simply adding 1 2 and 3 , then storing the result of this addition in a variable named \n",
    "as total and then we are printing the value which is stored in total.\n",
    "\n",
    "now suppose you have a Statements that are contained within the [], {}, or () brackets, then we do not need to use the \n",
    "line continuation character.\n",
    "For example following statement works well in Python −\n",
    "'''\n",
    "\n",
    "Students = ['Atul', 'Aradhana', 'Sandeep',\n",
    "        'Waseem', 'Arpita','Ankita']\n",
    "\n",
    "print(Students)\n"
   ]
  },
  {
   "cell_type": "markdown",
   "id": "1b44b111",
   "metadata": {},
   "source": [
    "# Python_1-Subtopic_8 - Quotations in Python"
   ]
  },
  {
   "cell_type": "code",
   "execution_count": null,
   "id": "ce672ffe",
   "metadata": {},
   "outputs": [],
   "source": [
    "\n",
    "\n",
    "#Python accepts single ('), double (\") and triple (''' or \"\"\") quotes to denote string literals, \n",
    "#as long as the same type of quote starts and ends the string.\n",
    "\n",
    "#The triple quotes are used to span the string across multiple lines. For example, all the following are legal −\n",
    "\n",
    "\n",
    "word = 'word'\n",
    "sentence = \"This is a sentence.\"\n",
    "paragraph = \"\"\"This is a paragraph. It is\n",
    " made up of multiple lines and sentences.\"\"\"\n",
    "\n",
    "print(word)\n",
    "print(sentence)\n",
    "print(paragraph)"
   ]
  },
  {
   "cell_type": "markdown",
   "id": "02937c43",
   "metadata": {},
   "source": [
    "# Python_1-Subtopic_9 - Comments in Python"
   ]
  },
  {
   "cell_type": "code",
   "execution_count": null,
   "id": "34b317d1",
   "metadata": {},
   "outputs": [],
   "source": [
    "\n",
    "\n",
    "'''\n",
    "A comment is a programmer-readable explanation or annotation in the any source code. \n",
    "We add comments in our code with the purpose of making the source code easier for us as well as others to understand,\n",
    "and the comments in the python programs are ignored by Python interpreter\n",
    "\n",
    "Python supports single-line and multi-line or block of statemtns comments.\n",
    "Python comments are very much similar to the comments available in PHP, or Perl Programming languages.\n",
    "\n",
    "A hash sign (#) that is not inside a string literal begins a comment. \n",
    "All characters after the # and up to the end of the physical line are part of the comment and the Python interpreter ignores them.\n",
    "'''\n",
    "\n",
    "# Example of First comment\n",
    "print (\"Hello, World!\") # This is Second comment\n",
    "\n",
    "'''\n",
    "We can also use triple-quoted string to comment out a block of statements and it will be ignored by Python interpreter\n",
    "and can be used as a multiline comments:\n",
    "'''\n",
    "\n",
    "'''\n",
    "This is a multiline\n",
    "comment for our first program.\n",
    "'''\n",
    "print(\"hello world\")"
   ]
  },
  {
   "cell_type": "markdown",
   "id": "dc552831",
   "metadata": {},
   "source": [
    "# Output in Python - The Print() Function"
   ]
  },
  {
   "cell_type": "code",
   "execution_count": 3,
   "id": "889e66b1",
   "metadata": {},
   "outputs": [
    {
     "name": "stdout",
     "output_type": "stream",
     "text": [
      "Atul Anand\n",
      "hello world- my name is Atul Anand\n",
      "hello world- my name is Atul Anand and my location ID is  25\n"
     ]
    }
   ],
   "source": [
    "# As this function name is self explanatory that the print function will print the data on your screen\n",
    "\n",
    "# so if we think about it then the most fundamental thing in a programming langauage is the input to a program\n",
    "# and output from the program and this output in the program is displayed using the print function in python\n",
    "\n",
    "# so lets think of situation in which you might need to print your name, then how will we print it on the screen?\n",
    "# so our name is basically string and as we have to print a string which is basically our name , so we can print it \n",
    "# in python by putting it into either double quote or single quote with this print function\n",
    "\n",
    "print(\"Atul Anand\")\n",
    "\n",
    "print('hello world- my name is Atul Anand')\n",
    "\n",
    "# now lets say that we wanted to print a string with a numeric value and this numeric value is stored in an identifier,\n",
    "# commonly known as variable then what we can do?\n",
    "\n",
    "# if we need to print a value of the identifier or value of a variable , then we need to write the identifier name\n",
    "# or the variable name without any double quotes.\n",
    "\n",
    "# so lets try.\n",
    "\n",
    "my_location_id=\"25\"\n",
    "print('hello world- my name is Atul Anand and my location ID is ',my_location_id)\n",
    "\n",
    "# Here you can see that the string and the identifier are seperated and concatenated by a commna\n"
   ]
  },
  {
   "cell_type": "markdown",
   "id": "259d73db",
   "metadata": {},
   "source": [
    "# Output in Python - The Print() Function with End Argument"
   ]
  },
  {
   "cell_type": "code",
   "execution_count": 6,
   "id": "58b7ae0c",
   "metadata": {},
   "outputs": [
    {
     "name": "stdout",
     "output_type": "stream",
     "text": [
      "Atul Anand\n",
      "hello world- my name is Atul Anand\n",
      "hello world- my name is Atul Anand and my location ID is  25\n",
      "Atul Anand\n",
      "hello world- my name is Atul Anand hello world- my name is Atul Anand and my location ID is  25\n"
     ]
    }
   ],
   "source": [
    "# so in general we all would have an idea that the each print statement corresponds to output in a new line, but lets try it out\n",
    "print(\"Atul Anand\")\n",
    "print('hello world- my name is Atul Anand')\n",
    "my_location_id=\"25\"\n",
    "print('hello world- my name is Atul Anand and my location ID is ',my_location_id)\n",
    "\n",
    "# here we can observer that the use of each print statement displays the result in a new line.\n",
    "# hence we have 3 lines printed in output\n",
    "# but sometimes it is convenient to view the output of a single line of printed text overal several python statement\n",
    "\n",
    "# lets assume a scenario that we may need to perform some complex computations in our code and print the multiple results\n",
    "# into a single line of text when the entire calculation is finished.\n",
    "# in such a scanerio , we can utilize the \"end\" argument in print statement \n",
    "# the end argument is used for not allowing to shift the control to the next line. # lets see with an example \n",
    "\n",
    "print(\"Atul Anand\")\n",
    "print('hello world- my name is Atul Anand',end=' ')\n",
    "my_location_id=\"25\"\n",
    "print('hello world- my name is Atul Anand and my location ID is ',my_location_id)\n",
    "\n",
    "# so in this program we have used end argument in print() function and this end arguemnt will cause the cursor \n",
    "#to remain on the same line for the next text. hence all the workds are printed in the same line."
   ]
  },
  {
   "cell_type": "markdown",
   "id": "1335294b",
   "metadata": {},
   "source": [
    "# Output in Python - The Print() Function with Sep Argument"
   ]
  },
  {
   "cell_type": "code",
   "execution_count": 10,
   "id": "319801dc",
   "metadata": {},
   "outputs": [
    {
     "name": "stdout",
     "output_type": "stream",
     "text": [
      "10 20\n",
      "10----20\n"
     ]
    }
   ],
   "source": [
    "# In python the print() function uses a keyword argument named as \"Sep\".\n",
    "# and this sep is used to specify the string which we need insert between items.\n",
    "# The value of hte sep argument allows us to control how the print function visually separates the arguments\n",
    "# the name sep stands for seperater and by default the print function places a single space in between the item that it prints\n",
    "# the default value of sep is blank string - and this blank string is a string that contains a single space.\n",
    "\n",
    "# so lets how how the seperater works\n",
    "\n",
    "val1=10\n",
    "val2=20\n",
    "\n",
    "# printing value without sepearator\n",
    "print(val1,val2)\n",
    "\n",
    "# printing value with sepearator\n",
    "print(val1,val2, sep='----')\n",
    "\n",
    "# so the first output shows prints default method of using the single space between two items.\n",
    "# while the second output shows print method using a dash dash dash between two items.\n"
   ]
  },
  {
   "cell_type": "markdown",
   "id": "3ec5f56b",
   "metadata": {},
   "source": [
    "# Input in Python - The Input() Function"
   ]
  },
  {
   "cell_type": "code",
   "execution_count": 14,
   "id": "ace1b06d",
   "metadata": {},
   "outputs": [
    {
     "name": "stdout",
     "output_type": "stream",
     "text": [
      "Please enter your nameAtul Anand\n",
      "hello -  Atul Anand ,good to see you here\n"
     ]
    }
   ],
   "source": [
    "# the most fundamental thing in a programming langauage is the input to a program and input in a python program is \n",
    "# primarily taken by using the input() function.\n",
    "# The input function helps to take string data from the user. \n",
    "# and we have to note that the input function accepts only string data \n",
    "\n",
    "# wso lets see and example\n",
    "user_name=input(\"Please enter your name\")\n",
    "\n",
    "print(\"hello - \",user_name,end=' ')\n",
    "print(\",good to see you here\")\n",
    "\n",
    "# so in this program the user is asked to enter his or her name using the input function in the user_name variable\n",
    "# and when the use_name is printed along with hello and good to see you , you can see that the name is also getting printed."
   ]
  },
  {
   "cell_type": "markdown",
   "id": "befac5b6",
   "metadata": {},
   "source": [
    "# Input in Python - The Input() Function with Int()"
   ]
  },
  {
   "cell_type": "code",
   "execution_count": 17,
   "id": "97a81cc8",
   "metadata": {},
   "outputs": [
    {
     "name": "stdout",
     "output_type": "stream",
     "text": [
      "Please enter your age here 25\n",
      "25\n",
      "<class 'int'>\n"
     ]
    }
   ],
   "source": [
    "# As we all know that The input function helps to take string data from the user. \n",
    "# and the input function accepts only string data.\n",
    "\n",
    "# However if the user wants to enter numeric data, then there is a need to use another function along with the input().\n",
    "# python accepts numeric input from the user in the form of an integer function.\n",
    "# lets use the int function with input function to get the numeric data fromthe user \n",
    "\n",
    "user_age=int(input(\"Please enter your age here \"))\n",
    "print(user_age)\n",
    "print(type(user_age))\n",
    "\n",
    "# After displaying the Please enter your age here , the program execution stops and waits for user input\n",
    "# The string produced by the input function is passed to the int function and produces a value to assign to the variable \n",
    "# user_age.\n",
    "\n",
    "\n",
    "\n",
    "# The code line user_age=int(input(\"Please enter your age here \")) hence promots the user to enter an integer value to assign it tothe variable\n",
    "# and store it in the memory."
   ]
  },
  {
   "cell_type": "markdown",
   "id": "27e0890c",
   "metadata": {},
   "source": [
    "# Input in Python - The Input() Function with float()"
   ]
  },
  {
   "cell_type": "code",
   "execution_count": 19,
   "id": "0d8f7baa",
   "metadata": {},
   "outputs": [
    {
     "name": "stdout",
     "output_type": "stream",
     "text": [
      "Please enter the side of square to get the area of square 4.2\n",
      "17.64\n",
      "<class 'float'>\n"
     ]
    }
   ],
   "source": [
    "# As we all know that The input function helps to take string data from the user. \n",
    "# and the input function accepts only string data.\n",
    "\n",
    "# However if the user wants to enter decimal data, then there is a need to use another function along with the input().\n",
    "# python accepts decimal input from the user in the form of an float() function.\n",
    "# lets use the float function with input function to get the decimal data from the user \n",
    "\n",
    "x=float(input(\"Please enter the side of square to get the area of square \"))\n",
    "print(x*x)\n",
    "print(type(x*x))\n",
    "\n",
    "# After displaying the Please enter the side of square to get the area of square  , \n",
    "# the program execution stops and waits for user input\n",
    "# The string produced by the input function is passed to the float function and produces a value to assign to the variable \n",
    "# x.\n",
    "\n",
    "\n",
    "\n",
    "# The code line x=float(input(\"Please enter the side of square to get the area of square \"))\n",
    "#  promots the user to enter a decimal value to assign it to the variable\n",
    "# and store it in the memory."
   ]
  },
  {
   "cell_type": "markdown",
   "id": "703b2d7d",
   "metadata": {},
   "source": [
    "# Input in Python - The Input() Function with eval()"
   ]
  },
  {
   "cell_type": "code",
   "execution_count": 24,
   "id": "edf7d0ac",
   "metadata": {},
   "outputs": [
    {
     "name": "stdout",
     "output_type": "stream",
     "text": [
      "Please enter your age'25'\n",
      "Please enter your weight65.5\n",
      "Please enter your name'Atul Anand'\n",
      "25\n",
      "<class 'str'>\n",
      "65.5\n",
      "<class 'float'>\n",
      "Atul Anand\n",
      "<class 'str'>\n"
     ]
    }
   ],
   "source": [
    "# Python provides a distinct feature for taking input fromthe user using eval() function, \n",
    "# which considers the data type according to the nature of the input provided.\n",
    "\n",
    "# the eval() function can also be used to convert a string representing a numeric expression \n",
    "# into its evaluated numeric value.\n",
    "\n",
    "#lets see how we can use the eval() function with input function\n",
    "\n",
    "integer_input_value=eval(input(\"Please enter your age\"))\n",
    "\n",
    "float_input_value=eval(input(\"Please enter your weight\"))\n",
    "\n",
    "string_input_value=eval(input(\"Please enter your name\"))# use atul anand with single quotes here in input like this 'Atul Anand'\n",
    "\n",
    "print(integer_input_value)\n",
    "print(type(integer_input_value))\n",
    "\n",
    "print(float_input_value)\n",
    "print(type(float_input_value))\n",
    "\n",
    "print(string_input_value)\n",
    "print(type(string_input_value))"
   ]
  },
  {
   "cell_type": "code",
   "execution_count": null,
   "id": "9aef3667",
   "metadata": {},
   "outputs": [],
   "source": []
  }
 ],
 "metadata": {
  "kernelspec": {
   "display_name": "Python 3 (ipykernel)",
   "language": "python",
   "name": "python3"
  },
  "language_info": {
   "codemirror_mode": {
    "name": "ipython",
    "version": 3
   },
   "file_extension": ".py",
   "mimetype": "text/x-python",
   "name": "python",
   "nbconvert_exporter": "python",
   "pygments_lexer": "ipython3",
   "version": "3.9.13"
  }
 },
 "nbformat": 4,
 "nbformat_minor": 5
}
